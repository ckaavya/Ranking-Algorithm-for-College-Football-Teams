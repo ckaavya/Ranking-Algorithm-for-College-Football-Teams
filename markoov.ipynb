{
 "cells": [
  {
   "cell_type": "markdown",
   "metadata": {
    "slideshow": {
     "slide_type": "skip"
    }
   },
   "source": [
    "### (Markov chains)"
   ]
  },
  {
   "cell_type": "markdown",
   "metadata": {},
   "source": [
    "import modules"
   ]
  },
  {
   "cell_type": "code",
   "execution_count": 166,
   "metadata": {
    "collapsed": true
   },
   "outputs": [],
   "source": [
    "import pandas as pd\n",
    "import numpy as np\n",
    "from numpy import genfromtxt"
   ]
  },
  {
   "cell_type": "code",
   "execution_count": 167,
   "metadata": {
    "collapsed": false
   },
   "outputs": [
    {
     "data": {
      "text/plain": [
       "(4197, 4)"
      ]
     },
     "execution_count": 167,
     "metadata": {},
     "output_type": "execute_result"
    }
   ],
   "source": [
    "CFB2016_scores = genfromtxt('CFB2016_scores.csv', delimiter=',')\n",
    "CFB2016_scores.shape"
   ]
  },
  {
   "cell_type": "code",
   "execution_count": 168,
   "metadata": {
    "collapsed": false
   },
   "outputs": [
    {
     "data": {
      "text/plain": [
       "760"
      ]
     },
     "execution_count": 168,
     "metadata": {},
     "output_type": "execute_result"
    }
   ],
   "source": [
    "TeamNames=[]\n",
    "fh = open('TeamNames.txt','r')\n",
    "for i,line in enumerate(fh):\n",
    "    TeamNames.append(line.strip())\n",
    "TeamNames=np.array(TeamNames)\n",
    "len(TeamNames)    "
   ]
  },
  {
   "cell_type": "markdown",
   "metadata": {},
   "source": [
    "Constructing M matrix of 760 X 760 intitialized with zeroes"
   ]
  },
  {
   "cell_type": "code",
   "execution_count": 169,
   "metadata": {
    "collapsed": false
   },
   "outputs": [
    {
     "data": {
      "text/plain": [
       "(760, 760)"
      ]
     },
     "execution_count": 169,
     "metadata": {},
     "output_type": "execute_result"
    }
   ],
   "source": [
    "M=np.zeros([760,760])\n",
    "M.shape"
   ]
  },
  {
   "cell_type": "code",
   "execution_count": 170,
   "metadata": {
    "collapsed": false
   },
   "outputs": [],
   "source": [
    "for i in range(CFB2016_scores.shape[0]):\n",
    "    if CFB2016_scores[i][1].astype(int)>CFB2016_scores[i][3].astype(int):\n",
    "#         print('a')\n",
    "        M[CFB2016_scores[i][0].astype(int)-1][CFB2016_scores[i][0].astype(int)-1]=M[CFB2016_scores[i][0].astype(int)-1][CFB2016_scores[i][0].astype(int)-1] + 1 + (CFB2016_scores[i][1]/(CFB2016_scores[i][1]+CFB2016_scores[i][3]))\n",
    "        M[CFB2016_scores[i][2].astype(int)-1][CFB2016_scores[i][0].astype(int)-1]=M[CFB2016_scores[i][2].astype(int)-1][CFB2016_scores[i][0].astype(int)-1] + 1 + (CFB2016_scores[i][1]/(CFB2016_scores[i][1]+CFB2016_scores[i][3]))\n",
    "        M[CFB2016_scores[i][2].astype(int)-1][CFB2016_scores[i][2].astype(int)-1]=M[CFB2016_scores[i][2].astype(int)-1][CFB2016_scores[i][2].astype(int)-1] + 0 + (CFB2016_scores[i][3]/(CFB2016_scores[i][1]+CFB2016_scores[i][3]))\n",
    "        M[CFB2016_scores[i][0].astype(int)-1][CFB2016_scores[i][2].astype(int)-1]=M[CFB2016_scores[i][0].astype(int)-1][CFB2016_scores[i][2].astype(int)-1] + 0 + (CFB2016_scores[i][3]/(CFB2016_scores[i][1]+CFB2016_scores[i][3]))\n",
    "    \n",
    "    elif CFB2016_scores[i][1].astype(int)<CFB2016_scores[i][3].astype(int): \n",
    "        M[CFB2016_scores[i][2].astype(int)-1][CFB2016_scores[i][2].astype(int)-1]=M[CFB2016_scores[i][2].astype(int)-1][CFB2016_scores[i][2].astype(int)-1] + 1 + (CFB2016_scores[i][3]/(CFB2016_scores[i][1]+CFB2016_scores[i][3]))\n",
    "        M[CFB2016_scores[i][0].astype(int)-1][CFB2016_scores[i][2].astype(int)-1]=M[CFB2016_scores[i][0].astype(int)-1][CFB2016_scores[i][2].astype(int)-1] + 1 + (CFB2016_scores[i][3]/(CFB2016_scores[i][1]+CFB2016_scores[i][3]))\n",
    "        M[CFB2016_scores[i][0].astype(int)-1][CFB2016_scores[i][0].astype(int)-1]=M[CFB2016_scores[i][0].astype(int)-1][CFB2016_scores[i][0].astype(int)-1] + 0 + (CFB2016_scores[i][1]/(CFB2016_scores[i][1]+CFB2016_scores[i][3]))\n",
    "        M[CFB2016_scores[i][2].astype(int)-1][CFB2016_scores[i][0].astype(int)-1]=M[CFB2016_scores[i][2].astype(int)-1][CFB2016_scores[i][0].astype(int)-1] + 0 + (CFB2016_scores[i][1]/(CFB2016_scores[i][1]+CFB2016_scores[i][3]))\n",
    "        \n",
    "    else:\n",
    "        M[CFB2016_scores[i][0].astype(int)-1][CFB2016_scores[i][0].astype(int)-1]=M[CFB2016_scores[i][0].astype(int)-1][CFB2016_scores[i][0].astype(int)-1] + 1 + (CFB2016_scores[i][1]/(CFB2016_scores[i][1]+CFB2016_scores[i][3]))\n",
    "        M[CFB2016_scores[i][2].astype(int)-1][CFB2016_scores[i][0].astype(int)-1]=M[CFB2016_scores[i][2].astype(int)-1][CFB2016_scores[i][0].astype(int)-1] + 1 + (CFB2016_scores[i][1]/(CFB2016_scores[i][1]+CFB2016_scores[i][3]))\n",
    "        M[CFB2016_scores[i][2].astype(int)-1][CFB2016_scores[i][2].astype(int)-1]=M[CFB2016_scores[i][2].astype(int)-1][CFB2016_scores[i][2].astype(int)-1] + 1 + (CFB2016_scores[i][3]/(CFB2016_scores[i][1]+CFB2016_scores[i][3]))\n",
    "        M[CFB2016_scores[i][0].astype(int)-1][CFB2016_scores[i][2].astype(int)-1]=M[CFB2016_scores[i][0].astype(int)-1][CFB2016_scores[i][2].astype(int)-1] + 1 + (CFB2016_scores[i][3]/(CFB2016_scores[i][1]+CFB2016_scores[i][3]))\n",
    "    "
   ]
  },
  {
   "cell_type": "markdown",
   "metadata": {},
   "source": [
    "Normalize M matrix"
   ]
  },
  {
   "cell_type": "code",
   "execution_count": 171,
   "metadata": {
    "collapsed": false
   },
   "outputs": [
    {
     "data": {
      "text/plain": [
       "(760, 760)"
      ]
     },
     "execution_count": 171,
     "metadata": {},
     "output_type": "execute_result"
    }
   ],
   "source": [
    "row_sums = M.sum(axis=1)\n",
    "M_norm =  M / row_sums[:, np.newaxis]\n",
    "M_norm.shape"
   ]
  },
  {
   "cell_type": "markdown",
   "metadata": {},
   "source": [
    "Set w0 to the uniform distribution"
   ]
  },
  {
   "cell_type": "code",
   "execution_count": 172,
   "metadata": {
    "collapsed": false
   },
   "outputs": [
    {
     "data": {
      "text/plain": [
       "(1, 760)"
      ]
     },
     "execution_count": 172,
     "metadata": {},
     "output_type": "execute_result"
    }
   ],
   "source": [
    "w0 = np.random.uniform(0,1,[1,760])\n",
    "w0.shape"
   ]
  },
  {
   "cell_type": "code",
   "execution_count": 173,
   "metadata": {
    "collapsed": false
   },
   "outputs": [],
   "source": [
    "#w0.fill(0.5)"
   ]
  },
  {
   "cell_type": "code",
   "execution_count": 174,
   "metadata": {
    "collapsed": false
   },
   "outputs": [],
   "source": [
    "# w=np.zeros([11,760])\n",
    "# w.shape"
   ]
  },
  {
   "cell_type": "code",
   "execution_count": 175,
   "metadata": {
    "collapsed": false
   },
   "outputs": [],
   "source": [
    "def t_val(T):\n",
    "    w=np.zeros([T+1,760])\n",
    "    w[0]=w0\n",
    "    for t in range(T):\n",
    "        w[t+1]=np.matmul(w[t],M_norm)\n",
    "        w[t+1]=w[t+1]/np.sum(w[t+1])\n",
    "    ind=w[t+1].argsort()[-25:][::-1]\n",
    "#     return w[t+1],ind\n",
    "    d = []\n",
    "    for i in range(0,len(ind)):\n",
    "        d.append({'Team': TeamNames[ind[i]], 'w': w[t+1][ind[i]]})\n",
    "\n",
    "    d=pd.DataFrame(d)\n",
    "    return d"
   ]
  },
  {
   "cell_type": "code",
   "execution_count": 190,
   "metadata": {
    "collapsed": false
   },
   "outputs": [
    {
     "name": "stdout",
     "output_type": "stream",
     "text": [
      "Top 25 Teams for t=10\n",
      "                  Team         w\n",
      "0   Mary Hardin-Baylor  0.016804\n",
      "1       NW Missouri St  0.014733\n",
      "2              Alabama  0.012327\n",
      "3              Clemson  0.010657\n",
      "4           UW-Oshkosh  0.010499\n",
      "5        UW-Whitewater  0.008593\n",
      "6            St Thomas  0.008455\n",
      "7        St Francis IN  0.008322\n",
      "8          Mount Union  0.007629\n",
      "9        James Madison  0.007420\n",
      "10       California PA  0.007087\n",
      "11        John Carroll  0.007072\n",
      "12     Grand Valley St  0.006986\n",
      "13             Harding  0.006940\n",
      "14            Shepherd  0.006933\n",
      "15           Reinhardt  0.006757\n",
      "16               Baker  0.006670\n",
      "17     North Dakota St  0.006258\n",
      "18       North Alabama  0.006008\n",
      "19              Alfred  0.006006\n",
      "20           Ferris St  0.005968\n",
      "21       North Central  0.005651\n",
      "22             Wheaton  0.005579\n",
      "23           Marian IN  0.005496\n",
      "24                 Coe  0.005431\n"
     ]
    }
   ],
   "source": [
    "print(\"Top 25 Teams for t=10\")\n",
    "print(t_val(10))\n"
   ]
  },
  {
   "cell_type": "code",
   "execution_count": 191,
   "metadata": {
    "collapsed": false
   },
   "outputs": [
    {
     "name": "stdout",
     "output_type": "stream",
     "text": [
      "Top 25 Teams for t=100\n",
      "                  Team         w\n",
      "0       NW Missouri St  0.040354\n",
      "1              Alabama  0.033350\n",
      "2              Clemson  0.032970\n",
      "3   Mary Hardin-Baylor  0.030660\n",
      "4           UW-Oshkosh  0.016655\n",
      "5        UW-Whitewater  0.012035\n",
      "6      Grand Valley St  0.010685\n",
      "7           Florida St  0.010439\n",
      "8         John Carroll  0.010060\n",
      "9           Ohio State  0.009935\n",
      "10           Ferris St  0.009835\n",
      "11           St Thomas  0.009274\n",
      "12          Washington  0.008886\n",
      "13       Virginia Tech  0.008784\n",
      "14         Mount Union  0.008553\n",
      "15          Emporia St  0.008459\n",
      "16            Michigan  0.008194\n",
      "17          Pittsburgh  0.008072\n",
      "18            Oklahoma  0.008038\n",
      "19          Penn State  0.007565\n",
      "20           Wisconsin  0.007286\n",
      "21          Louisville  0.006951\n",
      "22            Miami FL  0.006901\n",
      "23      North Carolina  0.006541\n",
      "24             Ashland  0.006471\n"
     ]
    }
   ],
   "source": [
    "print(\"Top 25 Teams for t=100\")\n",
    "print(t_val(100))"
   ]
  },
  {
   "cell_type": "code",
   "execution_count": 192,
   "metadata": {
    "collapsed": false
   },
   "outputs": [
    {
     "name": "stdout",
     "output_type": "stream",
     "text": [
      "Top 25 Teams for t=1000\n",
      "                Team         w\n",
      "0            Alabama  0.060891\n",
      "1            Clemson  0.060579\n",
      "2     NW Missouri St  0.030782\n",
      "3         Florida St  0.018867\n",
      "4         Ohio State  0.018034\n",
      "5         Washington  0.015935\n",
      "6      Virginia Tech  0.015869\n",
      "7           Michigan  0.014869\n",
      "8         Pittsburgh  0.014693\n",
      "9           Oklahoma  0.014431\n",
      "10        Penn State  0.013711\n",
      "11         Wisconsin  0.013125\n",
      "12        Louisville  0.012649\n",
      "13          Miami FL  0.012456\n",
      "14      Southern Cal  0.011622\n",
      "15    North Carolina  0.011451\n",
      "16       Oklahoma St  0.011324\n",
      "17           Florida  0.011283\n",
      "18         Tennessee  0.010844\n",
      "19            Auburn  0.010843\n",
      "20      Georgia Tech  0.010007\n",
      "21               LSU  0.009575\n",
      "22  Western Michigan  0.009548\n",
      "23          Stanford  0.009538\n",
      "24     James Madison  0.008708\n"
     ]
    }
   ],
   "source": [
    "print(\"Top 25 Teams for t=1000\")\n",
    "print(t_val(1000))"
   ]
  },
  {
   "cell_type": "code",
   "execution_count": 193,
   "metadata": {
    "collapsed": false
   },
   "outputs": [
    {
     "name": "stdout",
     "output_type": "stream",
     "text": [
      "Top 25 Teams for t=10000\n",
      "                Team         w\n",
      "0            Alabama  0.067493\n",
      "1            Clemson  0.067193\n",
      "2         Florida St  0.020901\n",
      "3         Ohio State  0.019984\n",
      "4         Washington  0.017634\n",
      "5      Virginia Tech  0.017579\n",
      "6           Michigan  0.016477\n",
      "7     NW Missouri St  0.016393\n",
      "8         Pittsburgh  0.016286\n",
      "9           Oklahoma  0.015972\n",
      "10        Penn State  0.015192\n",
      "11         Wisconsin  0.014534\n",
      "12        Louisville  0.014021\n",
      "13          Miami FL  0.013796\n",
      "14      Southern Cal  0.012870\n",
      "15    North Carolina  0.012652\n",
      "16       Oklahoma St  0.012527\n",
      "17           Florida  0.012495\n",
      "18         Tennessee  0.012011\n",
      "19            Auburn  0.012011\n",
      "20      Georgia Tech  0.011085\n",
      "21               LSU  0.010575\n",
      "22  Western Michigan  0.010570\n",
      "23          Stanford  0.010557\n",
      "24         Texas A&M  0.009553\n"
     ]
    }
   ],
   "source": [
    "print(\"Top 25 Teams for t=10000\")\n",
    "print(t_val(10000))"
   ]
  },
  {
   "cell_type": "markdown",
   "metadata": {},
   "source": [
    "##### (b) Plot ∥wt −w∞∥1 as a function of t for t=1,...,10000."
   ]
  },
  {
   "cell_type": "code",
   "execution_count": 180,
   "metadata": {
    "collapsed": false
   },
   "outputs": [],
   "source": [
    "import scipy.sparse.linalg\n",
    "x,y=sparse.linalg.eigs(M_norm.T,k=1,sigma=1.0)"
   ]
  },
  {
   "cell_type": "code",
   "execution_count": 181,
   "metadata": {
    "collapsed": false
   },
   "outputs": [],
   "source": [
    "y=y/np.sum(y)"
   ]
  },
  {
   "cell_type": "code",
   "execution_count": 182,
   "metadata": {
    "collapsed": true
   },
   "outputs": [],
   "source": [
    "T=10000\n",
    "w=np.zeros([T+1,760])\n",
    "w[0]=w0\n",
    "for t in range(T):\n",
    "    w[t+1]=np.matmul(w[t],M_norm)\n",
    "    w[t+1]=w[t+1]/np.sum(w[t+1])"
   ]
  },
  {
   "cell_type": "code",
   "execution_count": 183,
   "metadata": {
    "collapsed": true
   },
   "outputs": [],
   "source": [
    "diff=[]\n",
    "for i in range(1,10000):\n",
    "    diff.append(np.linalg.norm(w[i].reshape([760,1])-y,ord=1))\n",
    "\n"
   ]
  },
  {
   "cell_type": "code",
   "execution_count": 188,
   "metadata": {
    "collapsed": false,
    "scrolled": false
   },
   "outputs": [
    {
     "data": {
      "image/png": "[encoded data removed]",
      "text/plain": [
       "<matplotlib.figure.Figure at 0x18e33b668>"
      ]
     },
     "metadata": {},
     "output_type": "display_data"
    }
   ],
   "source": [
    "x_axis2 = np.arange(1, 10000)\n",
    "import matplotlib.pyplot as plt\n",
    "plt.figure(figsize=(9,6))\n",
    "# for i in range(1,10):\n",
    "    \n",
    "plt.plot(x_axis2,diff)\n",
    "\n",
    "plt.title(\"Plot of |wt −w∞|1 as a function of t\")\n",
    "plt.xlabel(\"t --->\")\n",
    "plt.ylabel(\"|wt −w∞|1\")\n",
    "plt.show()"
   ]
  }
 ],
 "metadata": {
  "anaconda-cloud": {},
  "kernelspec": {
   "display_name": "Python [default]",
   "language": "python",
   "name": "python3"
  },
  "language_info": {
   "codemirror_mode": {
    "name": "ipython",
    "version": 3
   },
   "file_extension": ".py",
   "mimetype": "text/x-python",
   "name": "python",
   "nbconvert_exporter": "python",
   "pygments_lexer": "ipython3",
   "version": "3.5.2"
  }
 },
 "nbformat": 4,
 "nbformat_minor": 2
}
